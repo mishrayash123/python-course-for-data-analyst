{
 "cells": [
  {
   "cell_type": "markdown",
   "id": "0e4db4cc",
   "metadata": {},
   "source": [
    "#  Numpy Library"
   ]
  },
  {
   "cell_type": "code",
   "execution_count": 1,
   "id": "56246080",
   "metadata": {},
   "outputs": [],
   "source": [
    "import numpy as np"
   ]
  },
  {
   "cell_type": "code",
   "execution_count": 3,
   "id": "20728c57",
   "metadata": {},
   "outputs": [
    {
     "name": "stdout",
     "output_type": "stream",
     "text": [
      "1.24.3\n"
     ]
    }
   ],
   "source": [
    "print(np.__version__)"
   ]
  },
  {
   "cell_type": "code",
   "execution_count": 4,
   "id": "3975e148",
   "metadata": {},
   "outputs": [
    {
     "name": "stdout",
     "output_type": "stream",
     "text": [
      "[1 2 3 4 5]\n",
      "<class 'numpy.ndarray'>\n"
     ]
    }
   ],
   "source": [
    "#Create numpy ndearray We can create by using array() function\n",
    "\n",
    "import numpy as np\n",
    "arr = np.array([1,2,3,4,5])\n",
    "print(arr)\n",
    "\n",
    "print(type(arr))"
   ]
  },
  {
   "cell_type": "code",
   "execution_count": 5,
   "id": "35631977",
   "metadata": {},
   "outputs": [
    {
     "name": "stdout",
     "output_type": "stream",
     "text": [
      "[1 2 3 4 5]\n",
      "<class 'numpy.ndarray'>\n"
     ]
    }
   ],
   "source": [
    "#use a tuple to create array\n",
    "\n",
    "import numpy as np\n",
    "arr = np.array((1,2,3,4,5))\n",
    "print(arr)\n",
    "\n",
    "print(type(arr))"
   ]
  },
  {
   "cell_type": "code",
   "execution_count": 6,
   "id": "3f548ae0",
   "metadata": {},
   "outputs": [
    {
     "name": "stdout",
     "output_type": "stream",
     "text": [
      "34\n"
     ]
    }
   ],
   "source": [
    "# dimensions in array\n",
    "\n",
    "arr = np.array(34)\n",
    "print(arr)"
   ]
  },
  {
   "cell_type": "code",
   "execution_count": 7,
   "id": "2a00be04",
   "metadata": {},
   "outputs": [
    {
     "name": "stdout",
     "output_type": "stream",
     "text": [
      "[1 2 3 4 5]\n",
      "1\n"
     ]
    }
   ],
   "source": [
    "#1D array\n",
    "arr = np.array([1,2,3,4,5])\n",
    "print(arr)\n",
    "print(arr.ndim)"
   ]
  },
  {
   "cell_type": "code",
   "execution_count": 9,
   "id": "250f3918",
   "metadata": {},
   "outputs": [
    {
     "name": "stdout",
     "output_type": "stream",
     "text": [
      "[[1 2 3 4]\n",
      " [2 3 4 5]]\n",
      "2\n"
     ]
    }
   ],
   "source": [
    "#2D array\n",
    "arr=np.array([[1,2,3,4],[2,3,4,5]])\n",
    "print(arr)\n",
    "print(arr.ndim)"
   ]
  },
  {
   "cell_type": "code",
   "execution_count": 24,
   "id": "e21adf36",
   "metadata": {},
   "outputs": [
    {
     "name": "stdout",
     "output_type": "stream",
     "text": [
      "[[[1 2 3]\n",
      "  [1 2 4]]\n",
      "\n",
      " [[1 2 3]\n",
      "  [2 3 4]]]\n",
      "3\n"
     ]
    }
   ],
   "source": [
    "#3D Array\n",
    "arr = np.array([[[1,2,3],[1,2,4]],[[1,2,3],[2,3,4]]])\n",
    "print(arr)\n",
    "print(arr.ndim)"
   ]
  },
  {
   "cell_type": "markdown",
   "id": "ce39fcce",
   "metadata": {},
   "source": [
    "A array can have any  no of dimensions"
   ]
  },
  {
   "cell_type": "code",
   "execution_count": 12,
   "id": "8900eaa4",
   "metadata": {},
   "outputs": [
    {
     "name": "stdout",
     "output_type": "stream",
     "text": [
      "[[[[[2 3 4]]]]]\n",
      "5\n"
     ]
    }
   ],
   "source": [
    "# 5 dimensions array\n",
    "arr = np.array([[[[[2,3,4]]]]])\n",
    "print(arr)\n",
    "print(arr.ndim)"
   ]
  },
  {
   "cell_type": "code",
   "execution_count": 13,
   "id": "540955e1",
   "metadata": {},
   "outputs": [
    {
     "name": "stdout",
     "output_type": "stream",
     "text": [
      "1\n"
     ]
    }
   ],
   "source": [
    "# Indexing in array \n",
    "# 1D array\n",
    "arr = np.array([1,2,3,4,5])\n",
    "print(arr[0])"
   ]
  },
  {
   "cell_type": "code",
   "execution_count": 14,
   "id": "4b1b25c5",
   "metadata": {},
   "outputs": [
    {
     "name": "stdout",
     "output_type": "stream",
     "text": [
      "3\n"
     ]
    }
   ],
   "source": [
    "arr = np.array([1,2,3,4,5])\n",
    "print(arr[0]+arr[1])"
   ]
  },
  {
   "cell_type": "code",
   "execution_count": 16,
   "id": "edbc575a",
   "metadata": {},
   "outputs": [
    {
     "name": "stdout",
     "output_type": "stream",
     "text": [
      "2\n",
      "4\n"
     ]
    }
   ],
   "source": [
    "# 2D array\n",
    "arr=np.array([[1,2,3,4],[2,3,4,5]])\n",
    "print(arr[0,1])\n",
    "print(arr[1,2])"
   ]
  },
  {
   "cell_type": "code",
   "execution_count": 29,
   "id": "ccd3b876",
   "metadata": {},
   "outputs": [
    {
     "name": "stdout",
     "output_type": "stream",
     "text": [
      "4\n",
      "4\n"
     ]
    }
   ],
   "source": [
    "# 3D array \n",
    "arr = np.array([[[1,2,3],[1,2,4]],[[1,2,3],[2,3,4]]])\n",
    "print(arr[0,1,2])\n",
    "print(arr[1,1,2])"
   ]
  },
  {
   "cell_type": "code",
   "execution_count": 30,
   "id": "2bd60fcf",
   "metadata": {},
   "outputs": [
    {
     "name": "stdout",
     "output_type": "stream",
     "text": [
      "5\n"
     ]
    }
   ],
   "source": [
    "# Negative indexing\n",
    "arr=np.array([[1,2,3,4],[2,3,4,5]])\n",
    "print(arr[1,-1])"
   ]
  },
  {
   "cell_type": "markdown",
   "id": "144327f7",
   "metadata": {},
   "source": [
    "# Slicing in array"
   ]
  },
  {
   "cell_type": "code",
   "execution_count": 32,
   "id": "a627484d",
   "metadata": {},
   "outputs": [
    {
     "name": "stdout",
     "output_type": "stream",
     "text": [
      "[2 3 4 5]\n",
      "[5]\n",
      "[1 3 5]\n"
     ]
    }
   ],
   "source": [
    "#1 D array\n",
    "arr = np.array([1,2,3,4,5])\n",
    "print(arr[1:5])\n",
    "print(arr[4:])\n",
    "print(arr[::2])"
   ]
  },
  {
   "cell_type": "code",
   "execution_count": 35,
   "id": "9333c8ad",
   "metadata": {},
   "outputs": [
    {
     "name": "stdout",
     "output_type": "stream",
     "text": [
      "[3 4 5]\n",
      "[3 4]\n",
      "[[2 3 4]\n",
      " [3 4 5]]\n"
     ]
    }
   ],
   "source": [
    "# 2D array\n",
    "arr=np.array([[1,2,3,4],[2,3,4,5]])\n",
    "print(arr[1,1:4])\n",
    "#from both elements return index 2\n",
    "print(arr[0:2,2])\n",
    "#slice index 1 to 4(not included) this will return a 2D array\n",
    "print(arr[0:2,1:4])"
   ]
  },
  {
   "cell_type": "code",
   "execution_count": null,
   "id": "e5c0107b",
   "metadata": {},
   "outputs": [],
   "source": [
    "# data types in numpy\n",
    "i - intger\n",
    "b - boolean\n",
    "u - unsigned integer\n",
    "f - float\n",
    "c - complex float\n",
    "m - timedelta\n",
    "M - datetime\n",
    "O - object\n",
    "S - String\n",
    "U - unicode string\n",
    "V - fixed chunk of memory for other type (void)"
   ]
  },
  {
   "cell_type": "code",
   "execution_count": 37,
   "id": "4faa52e1",
   "metadata": {},
   "outputs": [
    {
     "name": "stdout",
     "output_type": "stream",
     "text": [
      "<U6\n"
     ]
    }
   ],
   "source": [
    "import numpy as np\n",
    "arr= np.array(['animal','djdjek'])\n",
    "print(arr.dtype)"
   ]
  },
  {
   "cell_type": "code",
   "execution_count": 39,
   "id": "adc8eb99",
   "metadata": {},
   "outputs": [
    {
     "name": "stdout",
     "output_type": "stream",
     "text": [
      "[b'1' b'2' b'3' b'4']\n",
      "|S1\n"
     ]
    }
   ],
   "source": [
    "arr = np.array([1,2,3,4],dtype='S')\n",
    "print(arr)\n",
    "print(arr.dtype)"
   ]
  },
  {
   "cell_type": "code",
   "execution_count": 40,
   "id": "7fa6f250",
   "metadata": {},
   "outputs": [
    {
     "name": "stdout",
     "output_type": "stream",
     "text": [
      "[1 2 3 4]\n",
      "int32\n"
     ]
    }
   ],
   "source": [
    "arr = np.array([1,2,3,4],dtype='i4')\n",
    "print(arr)\n",
    "print(arr.dtype)"
   ]
  },
  {
   "cell_type": "markdown",
   "id": "9431ef14",
   "metadata": {},
   "source": [
    "Shape of an array is number of elements in each dimension"
   ]
  },
  {
   "cell_type": "code",
   "execution_count": 41,
   "id": "8f31b0dc",
   "metadata": {},
   "outputs": [
    {
     "name": "stdout",
     "output_type": "stream",
     "text": [
      "(2, 3)\n"
     ]
    }
   ],
   "source": [
    "arr = np.array([[1,2,3],[2,3,4]])\n",
    "print(arr.shape)"
   ]
  },
  {
   "cell_type": "code",
   "execution_count": 42,
   "id": "b2f3cb30",
   "metadata": {},
   "outputs": [
    {
     "name": "stdout",
     "output_type": "stream",
     "text": [
      "[[[[[1 2 3 4]]]]]\n",
      "(1, 1, 1, 1, 4)\n"
     ]
    }
   ],
   "source": [
    "arr = np.array([1,2,3,4],ndmin=5)\n",
    "\n",
    "print(arr)\n",
    "print(arr.shape)"
   ]
  },
  {
   "cell_type": "code",
   "execution_count": 44,
   "id": "7bf50ab1",
   "metadata": {},
   "outputs": [
    {
     "name": "stdout",
     "output_type": "stream",
     "text": [
      "[1 2 3 4 5 6]\n"
     ]
    }
   ],
   "source": [
    "# join two arrays\n",
    "arr1=np.array([1,2,3])\n",
    "arr2=np.array([4,5,6])\n",
    "arr=np.concatenate((arr1,arr2))\n",
    "print(arr)"
   ]
  },
  {
   "cell_type": "markdown",
   "id": "5e646287",
   "metadata": {},
   "source": [
    "# joining two 2D arrays along rows"
   ]
  },
  {
   "cell_type": "code",
   "execution_count": 45,
   "id": "2070fcc3",
   "metadata": {},
   "outputs": [
    {
     "name": "stdout",
     "output_type": "stream",
     "text": [
      "[[1 2 3 4 5 6]\n",
      " [1 2 3 3 4 5]]\n"
     ]
    }
   ],
   "source": [
    "arr1=np.array([[1,2,3],[1,2,3]])\n",
    "arr2=np.array([[4,5,6],[3,4,5]])\n",
    "arr=np.concatenate((arr1,arr2),axis=1)\n",
    "print(arr)"
   ]
  },
  {
   "cell_type": "code",
   "execution_count": 46,
   "id": "936a5cc1",
   "metadata": {},
   "outputs": [
    {
     "name": "stdout",
     "output_type": "stream",
     "text": [
      "[[1 2 3]\n",
      " [1 2 3]\n",
      " [4 5 6]\n",
      " [3 4 5]]\n"
     ]
    }
   ],
   "source": [
    "# joining along with culums\n",
    "\n",
    "arr1=np.array([[1,2,3],[1,2,3]])\n",
    "arr2=np.array([[4,5,6],[3,4,5]])\n",
    "arr=np.concatenate((arr1,arr2),axis=0)\n",
    "print(arr)"
   ]
  },
  {
   "cell_type": "code",
   "execution_count": 47,
   "id": "8b6b7c3a",
   "metadata": {},
   "outputs": [
    {
     "name": "stdout",
     "output_type": "stream",
     "text": [
      "[array([1, 2, 3, 4]), array([5, 5, 5]), array([5, 5, 5])]\n"
     ]
    }
   ],
   "source": [
    "# splitting array in parts\n",
    "arr = np.array([1,2,3,4,5,5,5,5,5,5])\n",
    "newarr=np.array_split(arr,3)\n",
    "\n",
    "print(newarr)"
   ]
  },
  {
   "cell_type": "markdown",
   "id": "63cdc4d4",
   "metadata": {},
   "source": [
    "ravel and flatten converts multidimensional array to 1D array"
   ]
  },
  {
   "cell_type": "code",
   "execution_count": 50,
   "id": "f4f00e9a",
   "metadata": {},
   "outputs": [
    {
     "name": "stdout",
     "output_type": "stream",
     "text": [
      "2\n",
      "[4 5 6 3 4 5]\n"
     ]
    }
   ],
   "source": [
    "arr2=np.array([[4,5,6],[3,4,5]])\n",
    "print(arr2.ndim)\n",
    "n=arr2.ravel()\n",
    "print(n)"
   ]
  },
  {
   "cell_type": "code",
   "execution_count": 51,
   "id": "e535f14e",
   "metadata": {},
   "outputs": [
    {
     "name": "stdout",
     "output_type": "stream",
     "text": [
      "2\n",
      "[4 5 6 3 4 5]\n"
     ]
    }
   ],
   "source": [
    "arr2=np.array([[4,5,6],[3,4,5]])\n",
    "print(arr2.ndim)\n",
    "n=arr2.flatten()\n",
    "print(n)"
   ]
  },
  {
   "cell_type": "code",
   "execution_count": 52,
   "id": "4e3a27db",
   "metadata": {},
   "outputs": [
    {
     "name": "stdout",
     "output_type": "stream",
     "text": [
      "[ 2  4  6  8 10 10 10 10 10 10]\n"
     ]
    }
   ],
   "source": [
    "arr = np.array([1,2,3,4,5,5,5,5,5,5])\n",
    "arr2 = np.array([1,2,3,4,5,5,5,5,5,5])\n",
    "print(arr+arr2)"
   ]
  },
  {
   "cell_type": "code",
   "execution_count": 53,
   "id": "117195bf",
   "metadata": {},
   "outputs": [
    {
     "name": "stdout",
     "output_type": "stream",
     "text": [
      "[ 2  4  6  8 10 10 10 10 10 10]\n"
     ]
    }
   ],
   "source": [
    "arr = np.array([1,2,3,4,5,5,5,5,5,5])\n",
    "arr2 = np.array([1,2,3,4,5,5,5,5,5,5])\n",
    "print(np.add(arr,arr2))"
   ]
  },
  {
   "cell_type": "code",
   "execution_count": 54,
   "id": "cd70b8f2",
   "metadata": {},
   "outputs": [
    {
     "name": "stdout",
     "output_type": "stream",
     "text": [
      "[3 4 5 6 7 7 7 7 7 7]\n"
     ]
    }
   ],
   "source": [
    "arr = np.array([1,2,3,4,5,5,5,5,5,5])\n",
    "print(arr+2)"
   ]
  },
  {
   "cell_type": "code",
   "execution_count": 55,
   "id": "7897fd4d",
   "metadata": {},
   "outputs": [
    {
     "name": "stdout",
     "output_type": "stream",
     "text": [
      "[-1  0  1  2  3  3  3  3  3  3]\n"
     ]
    }
   ],
   "source": [
    "arr = np.array([1,2,3,4,5,5,5,5,5,5])\n",
    "print(arr-2)"
   ]
  },
  {
   "cell_type": "code",
   "execution_count": 57,
   "id": "b68954b0",
   "metadata": {},
   "outputs": [
    {
     "name": "stdout",
     "output_type": "stream",
     "text": [
      "[0 0 0 0 0 0 0 0 0 0]\n"
     ]
    }
   ],
   "source": [
    "arr = np.array([1,2,3,4,5,5,5,5,5,5])\n",
    "arr2 = np.array([1,2,3,4,5,5,5,5,5,5])\n",
    "print(np.subtract(arr,arr2))"
   ]
  },
  {
   "cell_type": "code",
   "execution_count": 58,
   "id": "0870909c",
   "metadata": {},
   "outputs": [
    {
     "name": "stdout",
     "output_type": "stream",
     "text": [
      "[0 0 0 0 0 0 0 0 0 0]\n"
     ]
    }
   ],
   "source": [
    "arr = np.array([1,2,3,4,5,5,5,5,5,5])\n",
    "arr2 = np.array([1,2,3,4,5,5,5,5,5,5])\n",
    "print(arr-arr2)"
   ]
  },
  {
   "cell_type": "code",
   "execution_count": 59,
   "id": "2b0e18aa",
   "metadata": {},
   "outputs": [
    {
     "name": "stdout",
     "output_type": "stream",
     "text": [
      "[ 2  4  6  8 10 10 10 10 10 10]\n"
     ]
    }
   ],
   "source": [
    "arr = np.array([1,2,3,4,5,5,5,5,5,5])\n",
    "print(arr*2)"
   ]
  },
  {
   "cell_type": "code",
   "execution_count": 60,
   "id": "c3276262",
   "metadata": {},
   "outputs": [
    {
     "name": "stdout",
     "output_type": "stream",
     "text": [
      "[ 1  4  9 16 25 25 25 25 25 25]\n"
     ]
    }
   ],
   "source": [
    "arr = np.array([1,2,3,4,5,5,5,5,5,5])\n",
    "arr2 = np.array([1,2,3,4,5,5,5,5,5,5])\n",
    "print(np.multiply(arr,arr2))"
   ]
  },
  {
   "cell_type": "code",
   "execution_count": 61,
   "id": "7145b3f8",
   "metadata": {},
   "outputs": [
    {
     "name": "stdout",
     "output_type": "stream",
     "text": [
      "[ 1  4  9 16 25 25 25 25 25 25]\n"
     ]
    }
   ],
   "source": [
    "arr = np.array([1,2,3,4,5,5,5,5,5,5])\n",
    "arr2 = np.array([1,2,3,4,5,5,5,5,5,5])\n",
    "print(arr*arr2)"
   ]
  },
  {
   "cell_type": "code",
   "execution_count": 62,
   "id": "23f9193e",
   "metadata": {},
   "outputs": [
    {
     "name": "stdout",
     "output_type": "stream",
     "text": [
      "[0.5 1.  1.5 2.  2.5 2.5 2.5 2.5 2.5 2.5]\n"
     ]
    }
   ],
   "source": [
    "arr = np.array([1,2,3,4,5,5,5,5,5,5])\n",
    "print(arr/2)"
   ]
  },
  {
   "cell_type": "code",
   "execution_count": 66,
   "id": "7ef228d7",
   "metadata": {},
   "outputs": [
    {
     "name": "stdout",
     "output_type": "stream",
     "text": [
      "[1. 1. 1. 1. 1. 1. 1. 1. 1. 1.]\n"
     ]
    }
   ],
   "source": [
    "arr = np.array([1,2,3,4,5,5,5,5,5,5])\n",
    "arr2 = np.array([1,2,3,4,5,5,5,5,5,5])\n",
    "print(np.divide(arr,arr2))"
   ]
  },
  {
   "cell_type": "code",
   "execution_count": 67,
   "id": "52074d4f",
   "metadata": {},
   "outputs": [
    {
     "name": "stdout",
     "output_type": "stream",
     "text": [
      "[0 0 0 0 0 0 0 0 0 0]\n"
     ]
    }
   ],
   "source": [
    "arr = np.array([1,2,3,4,5,5,5,5,5,5])\n",
    "arr2 = np.array([1,2,3,4,5,5,5,5,5,5])\n",
    "print(np.mod(arr,arr2))"
   ]
  },
  {
   "cell_type": "code",
   "execution_count": 68,
   "id": "e4a0633f",
   "metadata": {},
   "outputs": [
    {
     "name": "stdout",
     "output_type": "stream",
     "text": [
      "[1 0 1 0 1 1 1 1 1 1]\n"
     ]
    }
   ],
   "source": [
    "arr = np.array([1,2,3,4,5,5,5,5,5,5])\n",
    "print(arr%2)"
   ]
  },
  {
   "cell_type": "code",
   "execution_count": 69,
   "id": "10a60c61",
   "metadata": {},
   "outputs": [
    {
     "name": "stdout",
     "output_type": "stream",
     "text": [
      "[0 0 0 0 0 0 0 0 0 0]\n"
     ]
    }
   ],
   "source": [
    "arr = np.array([1,2,3,4,5,5,5,5,5,5])\n",
    "arr2 = np.array([1,2,3,4,5,5,5,5,5,5])\n",
    "print(arr%arr2)"
   ]
  },
  {
   "cell_type": "markdown",
   "id": "d62c2a60",
   "metadata": {},
   "source": [
    "#  Arithmatic operations in 2D Array"
   ]
  },
  {
   "cell_type": "code",
   "execution_count": 70,
   "id": "701c7a06",
   "metadata": {},
   "outputs": [
    {
     "name": "stdout",
     "output_type": "stream",
     "text": [
      "[[5 7 9]\n",
      " [4 6 8]]\n"
     ]
    }
   ],
   "source": [
    "n1=np.array([[1,2,3],[1,2,3]])\n",
    "n2=np.array([[4,5,6],[3,4,5]])\n",
    "print(n1+n2)"
   ]
  },
  {
   "cell_type": "code",
   "execution_count": 71,
   "id": "5116175e",
   "metadata": {},
   "outputs": [
    {
     "name": "stdout",
     "output_type": "stream",
     "text": [
      "[[-3 -3 -3]\n",
      " [-2 -2 -2]]\n"
     ]
    }
   ],
   "source": [
    "n1=np.array([[1,2,3],[1,2,3]])\n",
    "n2=np.array([[4,5,6],[3,4,5]])\n",
    "print(n1-n2)"
   ]
  },
  {
   "cell_type": "code",
   "execution_count": 72,
   "id": "96694f9c",
   "metadata": {},
   "outputs": [
    {
     "name": "stdout",
     "output_type": "stream",
     "text": [
      "[[ 4 10 18]\n",
      " [ 3  8 15]]\n"
     ]
    }
   ],
   "source": [
    "n1=np.array([[1,2,3],[1,2,3]])\n",
    "n2=np.array([[4,5,6],[3,4,5]])\n",
    "print(n1*n2)"
   ]
  },
  {
   "cell_type": "code",
   "execution_count": 73,
   "id": "31d4dd0b",
   "metadata": {},
   "outputs": [
    {
     "name": "stdout",
     "output_type": "stream",
     "text": [
      "[[0.25       0.4        0.5       ]\n",
      " [0.33333333 0.5        0.6       ]]\n"
     ]
    }
   ],
   "source": [
    "n1=np.array([[1,2,3],[1,2,3]])\n",
    "n2=np.array([[4,5,6],[3,4,5]])\n",
    "print(n1/n2)"
   ]
  },
  {
   "cell_type": "code",
   "execution_count": 74,
   "id": "6c35c817",
   "metadata": {},
   "outputs": [
    {
     "name": "stdout",
     "output_type": "stream",
     "text": [
      "[[[2 4 6]\n",
      "  [2 4 8]]\n",
      "\n",
      " [[2 4 6]\n",
      "  [4 6 8]]]\n",
      "3\n"
     ]
    }
   ],
   "source": [
    "n1 = np.array([[[1,2,3],[1,2,4]],[[1,2,3],[2,3,4]]])\n",
    "n2 = np.array([[[1,2,3],[1,2,4]],[[1,2,3],[2,3,4]]])\n",
    "x=n1+n2\n",
    "print(x)\n",
    "print(x.ndim)"
   ]
  },
  {
   "cell_type": "code",
   "execution_count": 75,
   "id": "0e183fa8",
   "metadata": {},
   "outputs": [
    {
     "name": "stdout",
     "output_type": "stream",
     "text": [
      "[[[0 0 0]\n",
      "  [0 0 0]]\n",
      "\n",
      " [[0 0 0]\n",
      "  [0 0 0]]]\n",
      "3\n"
     ]
    }
   ],
   "source": [
    "n1 = np.array([[[1,2,3],[1,2,4]],[[1,2,3],[2,3,4]]])\n",
    "n2 = np.array([[[1,2,3],[1,2,4]],[[1,2,3],[2,3,4]]])\n",
    "x=n1-n2\n",
    "print(x)\n",
    "print(x.ndim)"
   ]
  },
  {
   "cell_type": "code",
   "execution_count": 76,
   "id": "83611e6c",
   "metadata": {},
   "outputs": [
    {
     "name": "stdout",
     "output_type": "stream",
     "text": [
      "[[[ 1  4  9]\n",
      "  [ 1  4 16]]\n",
      "\n",
      " [[ 1  4  9]\n",
      "  [ 4  9 16]]]\n",
      "3\n"
     ]
    }
   ],
   "source": [
    "n1 = np.array([[[1,2,3],[1,2,4]],[[1,2,3],[2,3,4]]])\n",
    "n2 = np.array([[[1,2,3],[1,2,4]],[[1,2,3],[2,3,4]]])\n",
    "x=n1*n2\n",
    "print(x)\n",
    "print(x.ndim)"
   ]
  },
  {
   "cell_type": "code",
   "execution_count": 77,
   "id": "95128567",
   "metadata": {},
   "outputs": [
    {
     "name": "stdout",
     "output_type": "stream",
     "text": [
      "[[[1. 1. 1.]\n",
      "  [1. 1. 1.]]\n",
      "\n",
      " [[1. 1. 1.]\n",
      "  [1. 1. 1.]]]\n",
      "3\n"
     ]
    }
   ],
   "source": [
    "n1 = np.array([[[1,2,3],[1,2,4]],[[1,2,3],[2,3,4]]])\n",
    "n2 = np.array([[[1,2,3],[1,2,4]],[[1,2,3],[2,3,4]]])\n",
    "x=n1/n2\n",
    "print(x)\n",
    "print(x.ndim)"
   ]
  },
  {
   "cell_type": "code",
   "execution_count": 78,
   "id": "aa0f8253",
   "metadata": {},
   "outputs": [
    {
     "name": "stdout",
     "output_type": "stream",
     "text": [
      "[1 2 3 4 5 6 7 8]\n"
     ]
    }
   ],
   "source": [
    "n1=np.array([1,2,2,2,3,4,4,5,6,7,8,8,6,5,4,3,2])\n",
    "x=np.unique(n1)\n",
    "print(x)"
   ]
  },
  {
   "cell_type": "code",
   "execution_count": 79,
   "id": "2241e593",
   "metadata": {},
   "outputs": [
    {
     "name": "stdout",
     "output_type": "stream",
     "text": [
      "(array([1, 2, 3, 4, 5, 6, 7, 8]), array([ 0,  1,  4,  5,  7,  8,  9, 10], dtype=int64))\n"
     ]
    }
   ],
   "source": [
    "n1=np.array([1,2,2,2,3,4,4,5,6,7,8,8,6,5,4,3,2])\n",
    "x=np.unique(n1,return_index=True)\n",
    "print(x)"
   ]
  },
  {
   "cell_type": "code",
   "execution_count": 82,
   "id": "9d1f8b02",
   "metadata": {},
   "outputs": [
    {
     "name": "stdout",
     "output_type": "stream",
     "text": [
      "(array([1, 2, 3, 4, 5, 6, 7, 8]), array([ 0,  1,  4,  5,  7,  8,  9, 10], dtype=int64), array([1, 4, 2, 3, 2, 2, 1, 2], dtype=int64))\n"
     ]
    }
   ],
   "source": [
    "n1=np.array([1,2,2,2,3,4,4,5,6,7,8,8,6,5,4,3,2])\n",
    "x=np.unique(n1,return_index=True,return_counts=True)\n",
    "print(x)"
   ]
  },
  {
   "cell_type": "code",
   "execution_count": 88,
   "id": "17f8cdf0",
   "metadata": {},
   "outputs": [
    {
     "name": "stdout",
     "output_type": "stream",
     "text": [
      "(array([1, 2, 3, 4, 5, 6, 7, 8]), array([ 0,  1,  4,  5,  7,  8,  9, 10], dtype=int64), array([1, 4, 2, 3, 2, 2, 1, 2], dtype=int64))\n",
      "[2 3]\n"
     ]
    }
   ],
   "source": [
    "n1=np.array([1,2,3])\n",
    "print(x)\n",
    "d=np.delete(n1,[0])\n",
    "print(d)"
   ]
  },
  {
   "cell_type": "code",
   "execution_count": 89,
   "id": "94d815b7",
   "metadata": {},
   "outputs": [
    {
     "name": "stdout",
     "output_type": "stream",
     "text": [
      "(array([1, 2, 3, 4, 5, 6, 7, 8]), array([ 0,  1,  4,  5,  7,  8,  9, 10], dtype=int64), array([1, 4, 2, 3, 2, 2, 1, 2], dtype=int64))\n",
      "[[1 2 3]\n",
      " [4 5 5]]\n"
     ]
    }
   ],
   "source": [
    "n1=np.array([[1,2,3],[2,3,4],[4,5,5]])\n",
    "print(x)\n",
    "d=np.delete(n1,1,axis=0)\n",
    "print(d)"
   ]
  },
  {
   "cell_type": "code",
   "execution_count": null,
   "id": "f04e667d",
   "metadata": {},
   "outputs": [],
   "source": []
  }
 ],
 "metadata": {
  "kernelspec": {
   "display_name": "Python 3 (ipykernel)",
   "language": "python",
   "name": "python3"
  },
  "language_info": {
   "codemirror_mode": {
    "name": "ipython",
    "version": 3
   },
   "file_extension": ".py",
   "mimetype": "text/x-python",
   "name": "python",
   "nbconvert_exporter": "python",
   "pygments_lexer": "ipython3",
   "version": "3.11.5"
  }
 },
 "nbformat": 4,
 "nbformat_minor": 5
}
