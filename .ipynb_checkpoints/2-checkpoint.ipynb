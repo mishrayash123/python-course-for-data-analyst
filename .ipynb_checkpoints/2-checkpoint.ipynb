{
 "cells": [
  {
   "cell_type": "markdown",
   "id": "e2748702",
   "metadata": {},
   "source": [
    "# built in func in python"
   ]
  },
  {
   "cell_type": "markdown",
   "id": "02fd7618",
   "metadata": {},
   "source": [
    "the abs fuction returns the absolute value"
   ]
  },
  {
   "cell_type": "code",
   "execution_count": 3,
   "id": "8e54b2d5",
   "metadata": {},
   "outputs": [
    {
     "name": "stdout",
     "output_type": "stream",
     "text": [
      "5.830951894845301\n",
      "8\n",
      "7.25\n"
     ]
    }
   ],
   "source": [
    "x=abs(-7.25)\n",
    "y=abs(-8)\n",
    "z=abs(3+5j)\n",
    "print(z)\n",
    "print(y)\n",
    "print(x)"
   ]
  },
  {
   "cell_type": "markdown",
   "id": "24bcd881",
   "metadata": {},
   "source": [
    "# Bin fuction"
   ]
  },
  {
   "cell_type": "markdown",
   "id": "4313b77b",
   "metadata": {},
   "source": [
    "bin fuction returns binary version of integer and results starts with 0b"
   ]
  },
  {
   "cell_type": "code",
   "execution_count": 5,
   "id": "faa5fc8f",
   "metadata": {},
   "outputs": [
    {
     "name": "stdout",
     "output_type": "stream",
     "text": [
      "0b111000\n",
      "0b1010\n"
     ]
    }
   ],
   "source": [
    "x=bin(10)\n",
    "y=bin(56)\n",
    "print(y)\n",
    "print(x)"
   ]
  },
  {
   "cell_type": "markdown",
   "id": "305b2a39",
   "metadata": {},
   "source": [
    "# bytes function"
   ]
  },
  {
   "cell_type": "markdown",
   "id": "4434d1a7",
   "metadata": {},
   "source": [
    "it returns a bytes object and converts objects into bytes objetcs or create empty bytes objects"
   ]
  },
  {
   "cell_type": "code",
   "execution_count": 6,
   "id": "cef974fb",
   "metadata": {},
   "outputs": [
    {
     "name": "stdout",
     "output_type": "stream",
     "text": [
      "b'\\x00\\x00\\x00\\x00'\n"
     ]
    }
   ],
   "source": [
    "x=bytes(4)\n",
    "print(x)"
   ]
  },
  {
   "cell_type": "markdown",
   "id": "b0a1c378",
   "metadata": {},
   "source": [
    "# chr() function"
   ]
  },
  {
   "cell_type": "markdown",
   "id": "efa9a927",
   "metadata": {},
   "source": [
    "it returns the charecter that represents an specific unicode"
   ]
  },
  {
   "cell_type": "code",
   "execution_count": 7,
   "id": "263a76d4",
   "metadata": {},
   "outputs": [
    {
     "name": "stdout",
     "output_type": "stream",
     "text": [
      "a\n"
     ]
    }
   ],
   "source": [
    "x=chr(97)\n",
    "print(x)"
   ]
  },
  {
   "cell_type": "markdown",
   "id": "2287fc95",
   "metadata": {},
   "source": [
    "# Complex fuction"
   ]
  },
  {
   "cell_type": "markdown",
   "id": "80592cd9",
   "metadata": {},
   "source": [
    "it returns a complex number "
   ]
  },
  {
   "cell_type": "code",
   "execution_count": 8,
   "id": "e03a5fe3",
   "metadata": {},
   "outputs": [
    {
     "name": "stdout",
     "output_type": "stream",
     "text": [
      "(3+5j)\n"
     ]
    }
   ],
   "source": [
    "x=complex(3,5)\n",
    "print(x)"
   ]
  },
  {
   "cell_type": "code",
   "execution_count": 9,
   "id": "daf494e8",
   "metadata": {},
   "outputs": [
    {
     "name": "stdout",
     "output_type": "stream",
     "text": [
      "(3+5j)\n"
     ]
    }
   ],
   "source": [
    "x=complex('3+5j')\n",
    "print(x)"
   ]
  },
  {
   "cell_type": "code",
   "execution_count": 10,
   "id": "3f925cc2",
   "metadata": {},
   "outputs": [
    {
     "name": "stdout",
     "output_type": "stream",
     "text": [
      "(3+0j)\n"
     ]
    }
   ],
   "source": [
    "x=complex('3')\n",
    "print(x)"
   ]
  },
  {
   "cell_type": "markdown",
   "id": "5df46427",
   "metadata": {},
   "source": [
    "# Float "
   ]
  },
  {
   "cell_type": "markdown",
   "id": "f035df0c",
   "metadata": {},
   "source": [
    "It converts specified value in to floating point number"
   ]
  },
  {
   "cell_type": "code",
   "execution_count": 11,
   "id": "b23d9127",
   "metadata": {},
   "outputs": [
    {
     "name": "stdout",
     "output_type": "stream",
     "text": [
      "3.0\n"
     ]
    }
   ],
   "source": [
    "x=float(3)\n",
    "print(x)"
   ]
  },
  {
   "cell_type": "code",
   "execution_count": 12,
   "id": "6e29c6f4",
   "metadata": {},
   "outputs": [
    {
     "name": "stdout",
     "output_type": "stream",
     "text": [
      "3.5\n"
     ]
    }
   ],
   "source": [
    "y= float(\"3.500\")\n",
    "print(y)"
   ]
  },
  {
   "cell_type": "markdown",
   "id": "147d0264",
   "metadata": {},
   "source": [
    "# Formate"
   ]
  },
  {
   "cell_type": "markdown",
   "id": "f546096a",
   "metadata": {},
   "source": [
    "it formats a specified value into a specified format\n",
    "\n",
    "sytax format(value,format)\n"
   ]
  },
  {
   "cell_type": "code",
   "execution_count": 13,
   "id": "42f1ab34",
   "metadata": {},
   "outputs": [
    {
     "name": "stdout",
     "output_type": "stream",
     "text": [
      "50.000000%\n"
     ]
    }
   ],
   "source": [
    "x=format(0.5,'%')\n",
    "print(x)"
   ]
  },
  {
   "cell_type": "code",
   "execution_count": 14,
   "id": "7383127b",
   "metadata": {},
   "outputs": [
    {
     "name": "stdout",
     "output_type": "stream",
     "text": [
      "a\n"
     ]
    }
   ],
   "source": [
    "x=format(97,'c')\n",
    "print(x)"
   ]
  },
  {
   "cell_type": "code",
   "execution_count": 15,
   "id": "0a4598e3",
   "metadata": {},
   "outputs": [
    {
     "name": "stdout",
     "output_type": "stream",
     "text": [
      "ff\n"
     ]
    }
   ],
   "source": [
    "x=format(255,'x')\n",
    "print(x)"
   ]
  },
  {
   "cell_type": "code",
   "execution_count": 16,
   "id": "1ab7d2f8",
   "metadata": {},
   "outputs": [
    {
     "name": "stdout",
     "output_type": "stream",
     "text": [
      "11001\n"
     ]
    }
   ],
   "source": [
    "x=format(25,'b')\n",
    "print(x)"
   ]
  },
  {
   "cell_type": "markdown",
   "id": "c9ab06f1",
   "metadata": {},
   "source": [
    "# int()"
   ]
  },
  {
   "cell_type": "markdown",
   "id": "6fd91d5d",
   "metadata": {},
   "source": [
    "it converts a value to a integer value"
   ]
  },
  {
   "cell_type": "code",
   "execution_count": 17,
   "id": "369a037d",
   "metadata": {},
   "outputs": [
    {
     "name": "stdout",
     "output_type": "stream",
     "text": [
      "12\n"
     ]
    }
   ],
   "source": [
    "x=int(\"12\")\n",
    "print(x)"
   ]
  },
  {
   "cell_type": "markdown",
   "id": "418fb17b",
   "metadata": {},
   "source": [
    "# str()"
   ]
  },
  {
   "cell_type": "code",
   "execution_count": 18,
   "id": "97f6fb63",
   "metadata": {},
   "outputs": [
    {
     "name": "stdout",
     "output_type": "stream",
     "text": [
      "789\n",
      "<class 'str'>\n"
     ]
    }
   ],
   "source": [
    "a=str(\"789\")\n",
    "print(a)\n",
    "print(type(a))"
   ]
  },
  {
   "cell_type": "markdown",
   "id": "9d24d154",
   "metadata": {},
   "source": [
    "# Help()"
   ]
  },
  {
   "cell_type": "markdown",
   "id": "2891804b",
   "metadata": {},
   "source": [
    "it displays the doccumentation of module , fuction etc"
   ]
  },
  {
   "cell_type": "code",
   "execution_count": 19,
   "id": "fdcb3982",
   "metadata": {},
   "outputs": [
    {
     "name": "stdout",
     "output_type": "stream",
     "text": [
      "Help on built-in function print in module builtins:\n",
      "\n",
      "print(*args, sep=' ', end='\\n', file=None, flush=False)\n",
      "    Prints the values to a stream, or to sys.stdout by default.\n",
      "    \n",
      "    sep\n",
      "      string inserted between values, default a space.\n",
      "    end\n",
      "      string appended after the last value, default a newline.\n",
      "    file\n",
      "      a file-like object (stream); defaults to the current sys.stdout.\n",
      "    flush\n",
      "      whether to forcibly flush the stream.\n",
      "\n"
     ]
    }
   ],
   "source": [
    "help(print)"
   ]
  },
  {
   "cell_type": "markdown",
   "id": "1767a5a3",
   "metadata": {},
   "source": [
    "# Input()"
   ]
  },
  {
   "cell_type": "code",
   "execution_count": 20,
   "id": "b7e65335",
   "metadata": {},
   "outputs": [
    {
     "name": "stdout",
     "output_type": "stream",
     "text": [
      "enter your nameyash\n",
      "Hello yash\n"
     ]
    }
   ],
   "source": [
    "x=input('enter your name')\n",
    "print('Hello',x)"
   ]
  },
  {
   "cell_type": "markdown",
   "id": "ad852cb4",
   "metadata": {},
   "source": [
    "write a programe to calculate sum of three no"
   ]
  },
  {
   "cell_type": "code",
   "execution_count": 21,
   "id": "47ee0f6b",
   "metadata": {},
   "outputs": [
    {
     "name": "stdout",
     "output_type": "stream",
     "text": [
      "enter first no2\n",
      "enter second no3\n",
      "enter third no3\n",
      "sum is 8\n"
     ]
    }
   ],
   "source": [
    "x=input('enter first no')\n",
    "y=input('enter second no')\n",
    "z=input('enter third no')\n",
    "p=int(x)+int(y)+int(z)\n",
    "print('sum is',p)"
   ]
  },
  {
   "cell_type": "code",
   "execution_count": null,
   "id": "1bf4a43b",
   "metadata": {},
   "outputs": [],
   "source": []
  }
 ],
 "metadata": {
  "kernelspec": {
   "display_name": "Python 3 (ipykernel)",
   "language": "python",
   "name": "python3"
  },
  "language_info": {
   "codemirror_mode": {
    "name": "ipython",
    "version": 3
   },
   "file_extension": ".py",
   "mimetype": "text/x-python",
   "name": "python",
   "nbconvert_exporter": "python",
   "pygments_lexer": "ipython3",
   "version": "3.11.5"
  }
 },
 "nbformat": 4,
 "nbformat_minor": 5
}
