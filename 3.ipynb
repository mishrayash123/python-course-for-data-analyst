{
 "cells": [
  {
   "cell_type": "markdown",
   "id": "7d411dab",
   "metadata": {},
   "source": [
    "# Control flow statement"
   ]
  },
  {
   "cell_type": "markdown",
   "id": "c019e113",
   "metadata": {},
   "source": [
    "# if"
   ]
  },
  {
   "cell_type": "code",
   "execution_count": 1,
   "id": "5bc48bee",
   "metadata": {},
   "outputs": [
    {
     "name": "stdout",
     "output_type": "stream",
     "text": [
      "i am outside the if condition\n"
     ]
    }
   ],
   "source": [
    "i=10\n",
    "if(i>15):\n",
    "    print(\"i is greater then 15\")\n",
    "    \n",
    "print(\"i am outside the if condition\")"
   ]
  },
  {
   "cell_type": "code",
   "execution_count": 2,
   "id": "f4ba48b0",
   "metadata": {},
   "outputs": [
    {
     "name": "stdout",
     "output_type": "stream",
     "text": [
      "enter the marks87\n",
      "grade is A+\n"
     ]
    }
   ],
   "source": [
    "a=int(input(\"enter the marks\"))\n",
    "if a>=85:\n",
    "    print(\"grade is A+\")\n",
    "if a>70 and a<85:\n",
    "    print(\"grade is B\")"
   ]
  },
  {
   "cell_type": "markdown",
   "id": "a48019f0",
   "metadata": {},
   "source": [
    "# if else "
   ]
  },
  {
   "cell_type": "code",
   "execution_count": 3,
   "id": "ef226612",
   "metadata": {},
   "outputs": [
    {
     "name": "stdout",
     "output_type": "stream",
     "text": [
      "enter a number106\n",
      "it is grater then 100\n"
     ]
    }
   ],
   "source": [
    "a=int(input(\"enter a number\"))\n",
    "if a>=100:\n",
    "    print(\"it is grater then 100\")\n",
    "else:\n",
    "    print(\"it is less then 100\")"
   ]
  },
  {
   "cell_type": "markdown",
   "id": "39859664",
   "metadata": {},
   "source": [
    "# if-elif-else"
   ]
  },
  {
   "cell_type": "code",
   "execution_count": 4,
   "id": "867c557f",
   "metadata": {},
   "outputs": [
    {
     "name": "stdout",
     "output_type": "stream",
     "text": [
      "enter a number67\n",
      "Bed grades\n"
     ]
    }
   ],
   "source": [
    "a=int(input(\"enter a number\"))\n",
    "if a>=90:\n",
    "    print(\"A+\")\n",
    "elif a>=85 and a<90:\n",
    "    print(\"A\")\n",
    "elif a>=70 and a<85:\n",
    "    print(\"B+\")\n",
    "else:\n",
    "    print(\"Bed grades\")"
   ]
  },
  {
   "cell_type": "markdown",
   "id": "cccdf07e",
   "metadata": {},
   "source": [
    "# Concepts of loops\n"
   ]
  },
  {
   "cell_type": "markdown",
   "id": "25fbb510",
   "metadata": {},
   "source": [
    "# while loop"
   ]
  },
  {
   "cell_type": "code",
   "execution_count": 5,
   "id": "f2ad77b4",
   "metadata": {},
   "outputs": [
    {
     "name": "stdout",
     "output_type": "stream",
     "text": [
      "1\n",
      "2\n",
      "3\n",
      "4\n",
      "5\n"
     ]
    }
   ],
   "source": [
    "i=1\n",
    "x=5\n",
    "while i<=x:\n",
    "    print(i)\n",
    "    i=i+1"
   ]
  },
  {
   "cell_type": "markdown",
   "id": "d1077dc1",
   "metadata": {},
   "source": [
    "# infinite while loop"
   ]
  },
  {
   "cell_type": "markdown",
   "id": "d7924591",
   "metadata": {},
   "source": [
    "age=32\n",
    "while age>18:\n",
    "    print(\"Hello yes\")"
   ]
  },
  {
   "cell_type": "markdown",
   "id": "087ea595",
   "metadata": {},
   "source": [
    "# else with while loop"
   ]
  },
  {
   "cell_type": "code",
   "execution_count": 6,
   "id": "35c26187",
   "metadata": {},
   "outputs": [
    {
     "name": "stdout",
     "output_type": "stream",
     "text": [
      "hello\n",
      "hello\n",
      "hello\n",
      "hello 1\n"
     ]
    }
   ],
   "source": [
    "count=0\n",
    "while(count<3):\n",
    "    count=count+1\n",
    "    print(\"hello\")\n",
    "else:\n",
    "    print(\"hello 1\")"
   ]
  },
  {
   "cell_type": "markdown",
   "id": "98a2518b",
   "metadata": {},
   "source": [
    "# for loop"
   ]
  },
  {
   "cell_type": "code",
   "execution_count": 7,
   "id": "131bccc9",
   "metadata": {},
   "outputs": [
    {
     "name": "stdout",
     "output_type": "stream",
     "text": [
      "apple\n",
      "banana\n",
      "orange\n"
     ]
    }
   ],
   "source": [
    "fruits=[\"apple\",\"banana\",\"orange\"]\n",
    "for x in fruits:\n",
    "    print(x)"
   ]
  },
  {
   "cell_type": "markdown",
   "id": "92689c80",
   "metadata": {},
   "source": [
    "#  for loop string "
   ]
  },
  {
   "cell_type": "code",
   "execution_count": 8,
   "id": "ca489ba8",
   "metadata": {},
   "outputs": [
    {
     "name": "stdout",
     "output_type": "stream",
     "text": [
      "b\n",
      "a\n",
      "n\n",
      "a\n",
      "n\n",
      "a\n"
     ]
    }
   ],
   "source": [
    "for x in \"banana\":\n",
    "    print(x)"
   ]
  },
  {
   "cell_type": "code",
   "execution_count": 10,
   "id": "638a7c7d",
   "metadata": {},
   "outputs": [
    {
     "name": "stdout",
     "output_type": "stream",
     "text": [
      "0\n",
      "1\n",
      "2\n",
      "3\n",
      "4\n",
      "5\n"
     ]
    }
   ],
   "source": [
    "for x in range(6):\n",
    "    print(x)"
   ]
  },
  {
   "cell_type": "code",
   "execution_count": 11,
   "id": "1bfe18cc",
   "metadata": {},
   "outputs": [
    {
     "name": "stdout",
     "output_type": "stream",
     "text": [
      "3\n",
      "4\n",
      "5\n"
     ]
    }
   ],
   "source": [
    "for x in range(3,6):\n",
    "    print(x)"
   ]
  },
  {
   "cell_type": "markdown",
   "id": "c09759ec",
   "metadata": {},
   "source": [
    "# else with for loop"
   ]
  },
  {
   "cell_type": "code",
   "execution_count": 12,
   "id": "27c23a18",
   "metadata": {},
   "outputs": [
    {
     "name": "stdout",
     "output_type": "stream",
     "text": [
      "3\n",
      "4\n",
      "5\n",
      "finally finished\n"
     ]
    }
   ],
   "source": [
    "for x in range(3,6):\n",
    "    print(x)\n",
    "else:\n",
    "    print(\"finally finished\")"
   ]
  },
  {
   "cell_type": "markdown",
   "id": "2f57ef37",
   "metadata": {},
   "source": [
    "# break"
   ]
  },
  {
   "cell_type": "code",
   "execution_count": 14,
   "id": "43085873",
   "metadata": {},
   "outputs": [
    {
     "name": "stdout",
     "output_type": "stream",
     "text": [
      "0\n",
      "1\n",
      "2\n"
     ]
    }
   ],
   "source": [
    "for x in range(6):\n",
    "    if x==3:\n",
    "        break\n",
    "    print(x)"
   ]
  },
  {
   "cell_type": "markdown",
   "id": "a6286c1f",
   "metadata": {},
   "source": [
    "# continue"
   ]
  },
  {
   "cell_type": "code",
   "execution_count": 15,
   "id": "9dbae400",
   "metadata": {},
   "outputs": [
    {
     "name": "stdout",
     "output_type": "stream",
     "text": [
      "0\n",
      "1\n",
      "2\n",
      "4\n",
      "5\n"
     ]
    }
   ],
   "source": [
    "for x in range(6):\n",
    "    if x==3:\n",
    "        continue\n",
    "    print(x)"
   ]
  },
  {
   "cell_type": "markdown",
   "id": "bd7186cf",
   "metadata": {},
   "source": [
    "# User defined function"
   ]
  },
  {
   "cell_type": "code",
   "execution_count": 16,
   "id": "b48ad24b",
   "metadata": {},
   "outputs": [
    {
     "name": "stdout",
     "output_type": "stream",
     "text": [
      "hello world\n"
     ]
    }
   ],
   "source": [
    "def my_function():\n",
    "    print(\"hello world\")\n",
    "    \n",
    "my_function()"
   ]
  },
  {
   "cell_type": "code",
   "execution_count": 18,
   "id": "2e6cff27",
   "metadata": {},
   "outputs": [],
   "source": [
    "def contact():\n",
    "    print(\"yash kumar mishra\")\n",
    "    print(\"Btech\")"
   ]
  },
  {
   "cell_type": "code",
   "execution_count": 19,
   "id": "3f8cbf3b",
   "metadata": {},
   "outputs": [
    {
     "name": "stdout",
     "output_type": "stream",
     "text": [
      "enter no6\n",
      "no is 6\n",
      "yash kumar mishra\n",
      "Btech\n",
      "enter no7\n",
      "no is 7\n",
      "yash kumar mishra\n",
      "Btech\n",
      "enter no7\n",
      "no is 7\n",
      "yash kumar mishra\n",
      "Btech\n",
      "enter no8\n",
      "no is 8\n",
      "yash kumar mishra\n",
      "Btech\n"
     ]
    }
   ],
   "source": [
    "for i in range(4):\n",
    "    a=int(input(\"enter no\"))\n",
    "    print(\"no is\",a)\n",
    "    contact()"
   ]
  },
  {
   "cell_type": "markdown",
   "id": "f64df9b3",
   "metadata": {},
   "source": [
    "# Arguments"
   ]
  },
  {
   "cell_type": "code",
   "execution_count": 22,
   "id": "324ace6e",
   "metadata": {},
   "outputs": [],
   "source": [
    "def Age(age):\n",
    "    print(\"your age is\",age)"
   ]
  },
  {
   "cell_type": "code",
   "execution_count": 23,
   "id": "5c4b519b",
   "metadata": {},
   "outputs": [
    {
     "name": "stdout",
     "output_type": "stream",
     "text": [
      "your age is 89\n",
      "your age is 99\n",
      "your age is 69\n"
     ]
    }
   ],
   "source": [
    "Age(89)\n",
    "Age(99)\n",
    "Age(69)"
   ]
  },
  {
   "cell_type": "code",
   "execution_count": 26,
   "id": "5aee59ab",
   "metadata": {},
   "outputs": [
    {
     "name": "stdout",
     "output_type": "stream",
     "text": [
      "5 78\n"
     ]
    }
   ],
   "source": [
    "#default argument\n",
    "\n",
    "def learn(x,y=78):\n",
    "    print(x,y)\n",
    "    \n",
    "learn(5)"
   ]
  },
  {
   "cell_type": "code",
   "execution_count": null,
   "id": "c9201ea7",
   "metadata": {},
   "outputs": [],
   "source": []
  }
 ],
 "metadata": {
  "kernelspec": {
   "display_name": "Python 3 (ipykernel)",
   "language": "python",
   "name": "python3"
  },
  "language_info": {
   "codemirror_mode": {
    "name": "ipython",
    "version": 3
   },
   "file_extension": ".py",
   "mimetype": "text/x-python",
   "name": "python",
   "nbconvert_exporter": "python",
   "pygments_lexer": "ipython3",
   "version": "3.11.5"
  }
 },
 "nbformat": 4,
 "nbformat_minor": 5
}
