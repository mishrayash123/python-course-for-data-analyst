{
 "cells": [
  {
   "cell_type": "markdown",
   "id": "f751ba93",
   "metadata": {},
   "source": [
    "# Strings in Python"
   ]
  },
  {
   "cell_type": "code",
   "execution_count": 1,
   "id": "a4e582d3",
   "metadata": {},
   "outputs": [
    {
     "name": "stdout",
     "output_type": "stream",
     "text": [
      "Hello\n"
     ]
    }
   ],
   "source": [
    "a=\"Hello\"\n",
    "print(a)"
   ]
  },
  {
   "cell_type": "markdown",
   "id": "498bf848",
   "metadata": {},
   "source": [
    "# multiline strings"
   ]
  },
  {
   "cell_type": "code",
   "execution_count": 2,
   "id": "1f6633fa",
   "metadata": {},
   "outputs": [
    {
     "name": "stdout",
     "output_type": "stream",
     "text": [
      "xxxxxxxxxxxxxxxxxxxxxxxxxxxxxxxxxxxxxxxyydejckejckjdkvcjnkldlvnkfkrjfkjfkjfklljfkfjklfjkrjfklrjfklrjfkjfklnvkfnvkjnrkjvnkvnkrnvknrkvnkvnkfnvknfkvn\n"
     ]
    }
   ],
   "source": [
    "\n",
    "a='xxxxxxxxxxxxxxxxxxxxxxxxxxxxxxxxxxxxxxxyydejckejckjdkvcjnkldlvnkfkrjfkjfkjfklljfkfjklfjkrjfklrjfklrjfkjfklnvkfnvkjnrkjvnkvnkrnvknrkvnkvnkfnvknfkvn'\n",
    "print(a)"
   ]
  },
  {
   "cell_type": "code",
   "execution_count": 3,
   "id": "9ab76b39",
   "metadata": {},
   "outputs": [
    {
     "name": "stdout",
     "output_type": "stream",
     "text": [
      "dhjkhdekjhcjkbecjbcjkkndkjcnkdnckdnkjcnkdjckejkdejcoejdoejocjeocjejdoejdoe\n",
      "dskdjkhckjshckjshckjkbsjcndkhckldjckljdclejioduewod\n",
      "djkhdkdxhckjdicjkdjcldjcl;dj\n",
      "ckjeidutedwuqgdbuq\n",
      "<class 'str'>\n"
     ]
    }
   ],
   "source": [
    "a=\"\"\"dhjkhdekjhcjkbecjbcjkkndkjcnkdnckdnkjcnkdjckejkdejcoejdoejocjeocjejdoejdoe\n",
    "dskdjkhckjshckjshckjkbsjcndkhckldjckljdclejioduewod\n",
    "djkhdkdxhckjdicjkdjcldjcl;dj\n",
    "ckjeidutedwuqgdbuq\"\"\"\n",
    "print(a)\n",
    "print(type(a))"
   ]
  },
  {
   "cell_type": "markdown",
   "id": "d4f3934b",
   "metadata": {},
   "source": [
    "# indexing Of string"
   ]
  },
  {
   "cell_type": "code",
   "execution_count": 5,
   "id": "5ea70301",
   "metadata": {},
   "outputs": [
    {
     "name": "stdout",
     "output_type": "stream",
     "text": [
      "H\n",
      "d\n"
     ]
    }
   ],
   "source": [
    "a=\"Hello World\"\n",
    "print(a[0])\n",
    "print(a[-1])"
   ]
  },
  {
   "cell_type": "markdown",
   "id": "232c9538",
   "metadata": {},
   "source": [
    "# Slicing of string"
   ]
  },
  {
   "cell_type": "code",
   "execution_count": 10,
   "id": "d1e78b49",
   "metadata": {},
   "outputs": [
    {
     "name": "stdout",
     "output_type": "stream",
     "text": [
      "Hel\n"
     ]
    }
   ],
   "source": [
    "s=\"Hello world hey yash\"\n",
    "print(s[0:3])"
   ]
  },
  {
   "cell_type": "code",
   "execution_count": 11,
   "id": "e653404d",
   "metadata": {},
   "outputs": [
    {
     "name": "stdout",
     "output_type": "stream",
     "text": [
      "Hlowrdhy\n"
     ]
    }
   ],
   "source": [
    "s=\"Hello world hey yash\"\n",
    "print(s[0:15:2])"
   ]
  },
  {
   "cell_type": "code",
   "execution_count": 12,
   "id": "2607c2f6",
   "metadata": {},
   "outputs": [
    {
     "name": "stdout",
     "output_type": "stream",
     "text": [
      "Hlwlh\n"
     ]
    }
   ],
   "source": [
    "s=\"Hello world hey yash\"\n",
    "print(s[0:15:3])"
   ]
  },
  {
   "cell_type": "code",
   "execution_count": 13,
   "id": "0d1cff3a",
   "metadata": {},
   "outputs": [
    {
     "name": "stdout",
     "output_type": "stream",
     "text": [
      "Hlowrdhyys\n"
     ]
    }
   ],
   "source": [
    "s=\"Hello world hey yash\"\n",
    "print(s[::2])"
   ]
  },
  {
   "cell_type": "markdown",
   "id": "3505f45b",
   "metadata": {},
   "source": [
    "# Reversing a string"
   ]
  },
  {
   "cell_type": "code",
   "execution_count": 14,
   "id": "71f033b2",
   "metadata": {},
   "outputs": [
    {
     "name": "stdout",
     "output_type": "stream",
     "text": [
      "hsay yeh dlrow olleH\n"
     ]
    }
   ],
   "source": [
    "s=\"Hello world hey yash\"\n",
    "print(s[::-1])"
   ]
  },
  {
   "cell_type": "markdown",
   "id": "d0d426b3",
   "metadata": {},
   "source": [
    "# length of string"
   ]
  },
  {
   "cell_type": "code",
   "execution_count": 15,
   "id": "993705e5",
   "metadata": {},
   "outputs": [
    {
     "name": "stdout",
     "output_type": "stream",
     "text": [
      "20\n"
     ]
    }
   ],
   "source": [
    "s=\"Hello world hey yash\"\n",
    "print(len(s))"
   ]
  },
  {
   "cell_type": "markdown",
   "id": "d46be535",
   "metadata": {},
   "source": [
    "# Check string"
   ]
  },
  {
   "cell_type": "code",
   "execution_count": 16,
   "id": "ffb33559",
   "metadata": {},
   "outputs": [
    {
     "name": "stdout",
     "output_type": "stream",
     "text": [
      "True\n"
     ]
    }
   ],
   "source": [
    "s=\"Hello world hey yash\"\n",
    "print(\"Hello\" in s)"
   ]
  },
  {
   "cell_type": "code",
   "execution_count": 17,
   "id": "927c35f2",
   "metadata": {},
   "outputs": [
    {
     "name": "stdout",
     "output_type": "stream",
     "text": [
      "yes, hello is in string\n"
     ]
    }
   ],
   "source": [
    "s=\"Hello world hey yash\"\n",
    "if \"Hello\" in s:\n",
    "    print(\"yes, hello is in string\")"
   ]
  },
  {
   "cell_type": "markdown",
   "id": "9b2856ee",
   "metadata": {},
   "source": [
    "# Check if not"
   ]
  },
  {
   "cell_type": "code",
   "execution_count": 18,
   "id": "353abcab",
   "metadata": {},
   "outputs": [
    {
     "name": "stdout",
     "output_type": "stream",
     "text": [
      "True\n"
     ]
    }
   ],
   "source": [
    "s=\"Hello world hey yash\"\n",
    "print(\"xys\" not in s)"
   ]
  },
  {
   "cell_type": "markdown",
   "id": "6b5e7100",
   "metadata": {},
   "source": [
    "# Upper and Lower method"
   ]
  },
  {
   "cell_type": "code",
   "execution_count": 19,
   "id": "5446e249",
   "metadata": {},
   "outputs": [
    {
     "name": "stdout",
     "output_type": "stream",
     "text": [
      "HELLO WORLD HEY YASH\n"
     ]
    }
   ],
   "source": [
    "s=\"Hello world hey yash\"\n",
    "print(s.upper())"
   ]
  },
  {
   "cell_type": "code",
   "execution_count": 20,
   "id": "b550830d",
   "metadata": {},
   "outputs": [
    {
     "name": "stdout",
     "output_type": "stream",
     "text": [
      "hello world hey yash\n"
     ]
    }
   ],
   "source": [
    "s=\"Hello world hey yash\"\n",
    "print(s.lower())"
   ]
  },
  {
   "cell_type": "markdown",
   "id": "229f1a93",
   "metadata": {},
   "source": [
    "# Replace string"
   ]
  },
  {
   "cell_type": "code",
   "execution_count": 21,
   "id": "afa46a42",
   "metadata": {},
   "outputs": [
    {
     "name": "stdout",
     "output_type": "stream",
     "text": [
      "jello world hey yash\n"
     ]
    }
   ],
   "source": [
    "s=\"Hello world hey yash\"\n",
    "print(s.replace('H','j'))"
   ]
  },
  {
   "cell_type": "code",
   "execution_count": 22,
   "id": "ea5849af",
   "metadata": {},
   "outputs": [
    {
     "name": "stdout",
     "output_type": "stream",
     "text": [
      "j world hey yash\n"
     ]
    }
   ],
   "source": [
    "s=\"Hello world hey yash\"\n",
    "print(s.replace('Hello','j'))"
   ]
  },
  {
   "cell_type": "markdown",
   "id": "9c1a6ffd",
   "metadata": {},
   "source": [
    "# String Concatanation"
   ]
  },
  {
   "cell_type": "code",
   "execution_count": 23,
   "id": "525a2a55",
   "metadata": {},
   "outputs": [
    {
     "name": "stdout",
     "output_type": "stream",
     "text": [
      "Hello World\n"
     ]
    }
   ],
   "source": [
    "a=\"Hello\"\n",
    "b=\"World\"\n",
    "c=a+\" \"+b\n",
    "print(c)"
   ]
  },
  {
   "cell_type": "markdown",
   "id": "59699527",
   "metadata": {},
   "source": [
    "# string index"
   ]
  },
  {
   "cell_type": "code",
   "execution_count": 26,
   "id": "c474d007",
   "metadata": {},
   "outputs": [
    {
     "name": "stdout",
     "output_type": "stream",
     "text": [
      "1\n"
     ]
    }
   ],
   "source": [
    "s=\"Hello world hey yash\"\n",
    "print(s.index(\"e\"))"
   ]
  },
  {
   "cell_type": "markdown",
   "id": "f90dd92f",
   "metadata": {},
   "source": [
    "# Find "
   ]
  },
  {
   "cell_type": "code",
   "execution_count": 27,
   "id": "f93742d1",
   "metadata": {},
   "outputs": [
    {
     "name": "stdout",
     "output_type": "stream",
     "text": [
      "6\n"
     ]
    }
   ],
   "source": [
    "s=\"Hello world hey yash\"\n",
    "print(s.find(\"w\"))"
   ]
  },
  {
   "cell_type": "markdown",
   "id": "c8f9b7a8",
   "metadata": {},
   "source": [
    "# List "
   ]
  },
  {
   "cell_type": "code",
   "execution_count": 28,
   "id": "17d65f8a",
   "metadata": {},
   "outputs": [
    {
     "name": "stdout",
     "output_type": "stream",
     "text": [
      "['apple', 'banana', 'apple', 'orange', 'orange']\n",
      "<class 'list'>\n"
     ]
    }
   ],
   "source": [
    "mylist=[\"apple\",\"banana\",\"apple\",\"orange\",\"orange\"]\n",
    "print(mylist)\n",
    "print(type(mylist))"
   ]
  },
  {
   "cell_type": "markdown",
   "id": "7e28050a",
   "metadata": {},
   "source": [
    "it allows duplicates"
   ]
  },
  {
   "cell_type": "markdown",
   "id": "ec614004",
   "metadata": {},
   "source": [
    "# list items data types"
   ]
  },
  {
   "cell_type": "code",
   "execution_count": 29,
   "id": "7a2c0be9",
   "metadata": {},
   "outputs": [
    {
     "name": "stdout",
     "output_type": "stream",
     "text": [
      "['apple', 'banana', 'apple', 'orange', 'orange']\n",
      "[1, 2, 3, 4, 5, 6]\n",
      "[True, False, True, False]\n",
      "[1.2, 3.4, 3.6, 4.7]\n",
      "<class 'list'>\n"
     ]
    }
   ],
   "source": [
    "mylist=[\"apple\",\"banana\",\"apple\",\"orange\",\"orange\"]\n",
    "mylist1=[1,2,3,4,5,6]\n",
    "mylist2=[True,False,True,False]\n",
    "mylist3=[1.2,3.4,3.6,4.7]\n",
    "print(mylist)\n",
    "print(mylist1)\n",
    "print(mylist2)\n",
    "print(mylist3)\n",
    "print(type(mylist))"
   ]
  },
  {
   "cell_type": "code",
   "execution_count": 30,
   "id": "36247b48",
   "metadata": {},
   "outputs": [
    {
     "name": "stdout",
     "output_type": "stream",
     "text": [
      "['apple', 'banana', 1, 2, 3, 3.4, 4.5, True, False]\n",
      "<class 'list'>\n"
     ]
    }
   ],
   "source": [
    "mylist=[\"apple\",\"banana\",1,2,3,3.4,4.5,True,False]\n",
    "print(mylist)\n",
    "print(type(mylist))"
   ]
  },
  {
   "cell_type": "code",
   "execution_count": 31,
   "id": "39cda46e",
   "metadata": {},
   "outputs": [
    {
     "name": "stdout",
     "output_type": "stream",
     "text": [
      "5\n"
     ]
    }
   ],
   "source": [
    "mylist=[\"apple\",\"banana\",\"apple\",\"orange\",\"orange\"]\n",
    "print(len(mylist))"
   ]
  },
  {
   "cell_type": "code",
   "execution_count": 32,
   "id": "92632fb3",
   "metadata": {},
   "outputs": [
    {
     "name": "stdout",
     "output_type": "stream",
     "text": [
      "apple\n"
     ]
    }
   ],
   "source": [
    "mylist=[\"apple\",\"banana\",\"apple\",\"orange\",\"orange\"]\n",
    "print(mylist[0])"
   ]
  },
  {
   "cell_type": "code",
   "execution_count": 34,
   "id": "729f7beb",
   "metadata": {},
   "outputs": [
    {
     "name": "stdout",
     "output_type": "stream",
     "text": [
      "orange\n"
     ]
    }
   ],
   "source": [
    "mylist=[\"apple\",\"banana\",\"apple\",\"orange\",\"orange\"]\n",
    "print(mylist[-1])"
   ]
  },
  {
   "cell_type": "markdown",
   "id": "50694c0d",
   "metadata": {},
   "source": [
    "# slicing list"
   ]
  },
  {
   "cell_type": "code",
   "execution_count": 35,
   "id": "cefb9b1e",
   "metadata": {},
   "outputs": [
    {
     "name": "stdout",
     "output_type": "stream",
     "text": [
      "[1, 2, 3, 4, 5, 6]\n",
      "[1, 2, 3, 4, 5, 6]\n",
      "[4, 5, 6]\n",
      "[1, 3, 5]\n",
      "[1, 4]\n"
     ]
    }
   ],
   "source": [
    "mylist=[1,2,3,4,5,6]\n",
    "print(mylist[0:6])\n",
    "print(mylist[0:])\n",
    "print(mylist[3:6])\n",
    "print(mylist[0:6:2])\n",
    "print(mylist[0:6:3])"
   ]
  },
  {
   "cell_type": "markdown",
   "id": "c89b8de3",
   "metadata": {},
   "source": [
    "# Change list items"
   ]
  },
  {
   "cell_type": "code",
   "execution_count": 36,
   "id": "73a0b73e",
   "metadata": {},
   "outputs": [
    {
     "name": "stdout",
     "output_type": "stream",
     "text": [
      "['xyz', 'banana', 'apple', 'orange', 'orange']\n"
     ]
    }
   ],
   "source": [
    "mylist=[\"apple\",\"banana\",\"apple\",\"orange\",\"orange\"]\n",
    "mylist[0]=\"xyz\"\n",
    "print(mylist)"
   ]
  },
  {
   "cell_type": "markdown",
   "id": "a1ba0fb6",
   "metadata": {},
   "source": [
    "# Chnage a range of an items values"
   ]
  },
  {
   "cell_type": "code",
   "execution_count": 37,
   "id": "70d52fcc",
   "metadata": {},
   "outputs": [
    {
     "name": "stdout",
     "output_type": "stream",
     "text": [
      "[1, 2, 'a', 's', 's', 5, 6]\n"
     ]
    }
   ],
   "source": [
    "mylist1=[1,2,3,4,5,6]\n",
    "mylist1[2:4]=[\"a\",\"s\",\"s\"]\n",
    "print(mylist1)"
   ]
  },
  {
   "cell_type": "markdown",
   "id": "bdbbb92f",
   "metadata": {},
   "source": [
    "# add items and remove"
   ]
  },
  {
   "cell_type": "code",
   "execution_count": 39,
   "id": "8b1a4951",
   "metadata": {},
   "outputs": [
    {
     "name": "stdout",
     "output_type": "stream",
     "text": [
      "['apple', 'banana', 'apple', 'orange', 'orange', 'kdjkd']\n"
     ]
    }
   ],
   "source": [
    "mylist=[\"apple\",\"banana\",\"apple\",\"orange\",\"orange\"]\n",
    "mylist.append(\"kdjkd\")\n",
    "print(mylist)"
   ]
  },
  {
   "cell_type": "code",
   "execution_count": 40,
   "id": "6c59f079",
   "metadata": {},
   "outputs": [
    {
     "name": "stdout",
     "output_type": "stream",
     "text": [
      "['banana', 'apple', 'orange', 'orange']\n"
     ]
    }
   ],
   "source": [
    "mylist=[\"apple\",\"banana\",\"apple\",\"orange\",\"orange\"]\n",
    "mylist.remove(\"apple\")\n",
    "print(mylist)"
   ]
  },
  {
   "cell_type": "code",
   "execution_count": 41,
   "id": "60159f9a",
   "metadata": {},
   "outputs": [
    {
     "name": "stdout",
     "output_type": "stream",
     "text": [
      "[True, False, True, False, 1.2, 3.4, 3.6, 4.7]\n"
     ]
    }
   ],
   "source": [
    "mylist2=[True,False,True,False]\n",
    "mylist3=[1.2,3.4,3.6,4.7]\n",
    "print(mylist2+mylist3)"
   ]
  },
  {
   "cell_type": "markdown",
   "id": "f1cbd7b0",
   "metadata": {},
   "source": [
    "# check in list"
   ]
  },
  {
   "cell_type": "code",
   "execution_count": 42,
   "id": "02fac334",
   "metadata": {},
   "outputs": [
    {
     "data": {
      "text/plain": [
       "True"
      ]
     },
     "execution_count": 42,
     "metadata": {},
     "output_type": "execute_result"
    }
   ],
   "source": [
    "mylist=[\"apple\",\"banana\",\"apple\",\"orange\",\"orange\"]\n",
    "\"apple\" in mylist"
   ]
  },
  {
   "cell_type": "code",
   "execution_count": 44,
   "id": "7ab11b92",
   "metadata": {},
   "outputs": [
    {
     "name": "stdout",
     "output_type": "stream",
     "text": [
      "['orange', 'orange', 'apple', 'banana', 'apple']\n"
     ]
    }
   ],
   "source": [
    "mylist=[\"apple\",\"banana\",\"apple\",\"orange\",\"orange\"]\n",
    "mylist.reverse()\n",
    "print(mylist)"
   ]
  },
  {
   "cell_type": "code",
   "execution_count": null,
   "id": "5cb76fd4",
   "metadata": {},
   "outputs": [],
   "source": []
  }
 ],
 "metadata": {
  "kernelspec": {
   "display_name": "Python 3 (ipykernel)",
   "language": "python",
   "name": "python3"
  },
  "language_info": {
   "codemirror_mode": {
    "name": "ipython",
    "version": 3
   },
   "file_extension": ".py",
   "mimetype": "text/x-python",
   "name": "python",
   "nbconvert_exporter": "python",
   "pygments_lexer": "ipython3",
   "version": "3.11.5"
  }
 },
 "nbformat": 4,
 "nbformat_minor": 5
}
