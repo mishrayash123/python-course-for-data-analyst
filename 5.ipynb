{
 "cells": [
  {
   "cell_type": "markdown",
   "id": "53fefd27",
   "metadata": {},
   "source": [
    "# Touple"
   ]
  },
  {
   "cell_type": "markdown",
   "id": "ab96ec8d",
   "metadata": {},
   "source": [
    "# Creating"
   ]
  },
  {
   "cell_type": "code",
   "execution_count": 2,
   "id": "960bb25a",
   "metadata": {},
   "outputs": [
    {
     "name": "stdout",
     "output_type": "stream",
     "text": [
      "(1, 2, 3)\n",
      "<class 'tuple'>\n"
     ]
    }
   ],
   "source": [
    "a= (1,2,3)\n",
    "print(a)\n",
    "print(type(a))"
   ]
  },
  {
   "cell_type": "code",
   "execution_count": 3,
   "id": "6329692c",
   "metadata": {},
   "outputs": [
    {
     "name": "stdout",
     "output_type": "stream",
     "text": [
      "(1, 2, 3, 'kswj', 3.4)\n",
      "<class 'tuple'>\n"
     ]
    }
   ],
   "source": [
    "a= (1,2,3,\"kswj\",3.4)\n",
    "print(a)\n",
    "print(type(a))"
   ]
  },
  {
   "cell_type": "code",
   "execution_count": 4,
   "id": "ce65d6e6",
   "metadata": {},
   "outputs": [
    {
     "name": "stdout",
     "output_type": "stream",
     "text": [
      "()\n",
      "<class 'tuple'>\n"
     ]
    }
   ],
   "source": [
    "a= ()\n",
    "print(a)\n",
    "print(type(a))"
   ]
  },
  {
   "cell_type": "code",
   "execution_count": 6,
   "id": "939d62f7",
   "metadata": {},
   "outputs": [
    {
     "name": "stdout",
     "output_type": "stream",
     "text": [
      "(1, 2, 3, [1, 2, 3], (1, 2, 3))\n",
      "<class 'tuple'>\n"
     ]
    }
   ],
   "source": [
    "a= (1,2,3,[1,2,3],(1,2,3))\n",
    "print(a)\n",
    "print(type(a))"
   ]
  },
  {
   "cell_type": "code",
   "execution_count": 7,
   "id": "a08b5d8c",
   "metadata": {},
   "outputs": [
    {
     "name": "stdout",
     "output_type": "stream",
     "text": [
      "Hello\n",
      "<class 'str'>\n"
     ]
    }
   ],
   "source": [
    "a= (\"Hello\")\n",
    "print(a)\n",
    "print(type(a))"
   ]
  },
  {
   "cell_type": "markdown",
   "id": "3e985f83",
   "metadata": {},
   "source": [
    "# touple constructor"
   ]
  },
  {
   "cell_type": "code",
   "execution_count": 8,
   "id": "da4ac188",
   "metadata": {},
   "outputs": [
    {
     "name": "stdout",
     "output_type": "stream",
     "text": [
      "(1, 2, 3)\n",
      "<class 'tuple'>\n"
     ]
    }
   ],
   "source": [
    "a= tuple((1,2,3))\n",
    "print(a)\n",
    "print(type(a))"
   ]
  },
  {
   "cell_type": "code",
   "execution_count": 9,
   "id": "c0a8afc2",
   "metadata": {},
   "outputs": [
    {
     "name": "stdout",
     "output_type": "stream",
     "text": [
      "5\n"
     ]
    }
   ],
   "source": [
    "#indexing\n",
    "a= (1,2,3,4,5,6,6)\n",
    "print(a[4])"
   ]
  },
  {
   "cell_type": "code",
   "execution_count": 10,
   "id": "e3b52192",
   "metadata": {},
   "outputs": [
    {
     "name": "stdout",
     "output_type": "stream",
     "text": [
      "6\n"
     ]
    }
   ],
   "source": [
    "#indexing\n",
    "a= (1,2,3,4,5,6,6)\n",
    "print(a[-1])"
   ]
  },
  {
   "cell_type": "markdown",
   "id": "0104f00a",
   "metadata": {},
   "source": [
    "# slicing"
   ]
  },
  {
   "cell_type": "code",
   "execution_count": 16,
   "id": "b2f52c18",
   "metadata": {},
   "outputs": [
    {
     "name": "stdout",
     "output_type": "stream",
     "text": [
      "(1, 2, 3, 4)\n",
      "7\n"
     ]
    }
   ],
   "source": [
    "a= (1,2,3,4,5,6,6)\n",
    "print(a[0:4])\n",
    "print(len(a))"
   ]
  },
  {
   "cell_type": "code",
   "execution_count": 17,
   "id": "d098902e",
   "metadata": {},
   "outputs": [
    {
     "name": "stdout",
     "output_type": "stream",
     "text": [
      "(1, 2, 3, 4, 5)\n"
     ]
    }
   ],
   "source": [
    "a= (1,2,3,4,5,6,6)\n",
    "print(a[:5])"
   ]
  },
  {
   "cell_type": "code",
   "execution_count": 18,
   "id": "5fd105f7",
   "metadata": {},
   "outputs": [
    {
     "name": "stdout",
     "output_type": "stream",
     "text": [
      "(1, 2, 3, 4, 5, 6, 6)\n"
     ]
    }
   ],
   "source": [
    "a= (1,2,3,4,5,6,6)\n",
    "print(a[:])"
   ]
  },
  {
   "cell_type": "code",
   "execution_count": 19,
   "id": "6ab5a2b2",
   "metadata": {},
   "outputs": [
    {
     "name": "stdout",
     "output_type": "stream",
     "text": [
      "(1, 3, 5, 6)\n"
     ]
    }
   ],
   "source": [
    "a= (1,2,3,4,5,6,6)\n",
    "print(a[::2])"
   ]
  },
  {
   "cell_type": "code",
   "execution_count": 20,
   "id": "53a83be4",
   "metadata": {},
   "outputs": [
    {
     "name": "stdout",
     "output_type": "stream",
     "text": [
      "(6, 6, 5, 4, 3, 2, 1)\n"
     ]
    }
   ],
   "source": [
    "#reversing\n",
    "a= (1,2,3,4,5,6,6)\n",
    "print(a[::-1])"
   ]
  },
  {
   "cell_type": "code",
   "execution_count": 21,
   "id": "2af27551",
   "metadata": {},
   "outputs": [
    {
     "name": "stdout",
     "output_type": "stream",
     "text": [
      "(1, 2, 3, 4, 5, 6, 6)\n"
     ]
    }
   ],
   "source": [
    "a= (1,2,3,4,5,6,6)\n",
    "print(a)"
   ]
  },
  {
   "cell_type": "markdown",
   "id": "f4043bd5",
   "metadata": {},
   "source": [
    "# once touple is created then we can not change it"
   ]
  },
  {
   "cell_type": "code",
   "execution_count": 22,
   "id": "ccc70222",
   "metadata": {},
   "outputs": [
    {
     "name": "stdout",
     "output_type": "stream",
     "text": [
      "(1, 'kjkjk', 3, 4, 5, 6, 6)\n"
     ]
    }
   ],
   "source": [
    "a= (1,2,3,4,5,6,6)\n",
    "b=list(a)\n",
    "b[1]=\"kjkjk\"\n",
    "a=tuple(b)\n",
    "print(a)"
   ]
  },
  {
   "cell_type": "code",
   "execution_count": 25,
   "id": "e471937b",
   "metadata": {},
   "outputs": [
    {
     "name": "stdout",
     "output_type": "stream",
     "text": [
      "(1, 2, 3, 4, 5, 6, 6, 'jdwdj')\n"
     ]
    }
   ],
   "source": [
    "#add items\n",
    "a= (1,2,3,4,5,6,6)\n",
    "b=list(a)\n",
    "b.append('jdwdj')\n",
    "a=tuple(b)\n",
    "print(a)\n",
    "\n",
    "#you can  perform remove operation by same method"
   ]
  },
  {
   "cell_type": "code",
   "execution_count": 26,
   "id": "f796e63e",
   "metadata": {},
   "outputs": [
    {
     "name": "stdout",
     "output_type": "stream",
     "text": [
      "(1, 2, 3, 4, 5, 6, 6, 'nsjw')\n"
     ]
    }
   ],
   "source": [
    "a= (1,2,3,4,5,6,6)\n",
    "y=(\"nsjw\",)\n",
    "a+=y\n",
    "print(a)"
   ]
  },
  {
   "cell_type": "code",
   "execution_count": 27,
   "id": "8c2e1cb3",
   "metadata": {},
   "outputs": [
    {
     "ename": "NameError",
     "evalue": "name 'a' is not defined",
     "output_type": "error",
     "traceback": [
      "\u001b[1;31m---------------------------------------------------------------------------\u001b[0m",
      "\u001b[1;31mNameError\u001b[0m                                 Traceback (most recent call last)",
      "Cell \u001b[1;32mIn[27], line 4\u001b[0m\n\u001b[0;32m      2\u001b[0m a\u001b[38;5;241m=\u001b[39m (\u001b[38;5;241m1\u001b[39m,\u001b[38;5;241m2\u001b[39m,\u001b[38;5;241m3\u001b[39m,\u001b[38;5;241m4\u001b[39m,\u001b[38;5;241m5\u001b[39m,\u001b[38;5;241m6\u001b[39m,\u001b[38;5;241m6\u001b[39m)\n\u001b[0;32m      3\u001b[0m \u001b[38;5;28;01mdel\u001b[39;00m a\n\u001b[1;32m----> 4\u001b[0m \u001b[38;5;28mprint\u001b[39m(a)\n",
      "\u001b[1;31mNameError\u001b[0m: name 'a' is not defined"
     ]
    }
   ],
   "source": [
    "#delete can delete completely a tuple\n",
    "a= (1,2,3,4,5,6,6)\n",
    "del a\n",
    "print(a)"
   ]
  },
  {
   "cell_type": "code",
   "execution_count": 28,
   "id": "162702be",
   "metadata": {},
   "outputs": [
    {
     "name": "stdout",
     "output_type": "stream",
     "text": [
      "1\n",
      "2\n",
      "3\n",
      "4\n",
      "5\n",
      "6\n",
      "6\n"
     ]
    }
   ],
   "source": [
    "#loop\n",
    "a= (1,2,3,4,5,6,6)\n",
    "for x in a:\n",
    "    print(x)"
   ]
  },
  {
   "cell_type": "code",
   "execution_count": 31,
   "id": "f41db2df",
   "metadata": {},
   "outputs": [
    {
     "name": "stdout",
     "output_type": "stream",
     "text": [
      "(1, 2, 3, 4, 5, 6, 6, 1, 2, 3, 4, 5, 6, 6)\n"
     ]
    }
   ],
   "source": [
    "# join two tuples\n",
    "a= (1,2,3,4,5,6,6)\n",
    "b= (1,2,3,4,5,6,6)\n",
    "print(a+b)"
   ]
  },
  {
   "cell_type": "code",
   "execution_count": 32,
   "id": "2eba2937",
   "metadata": {},
   "outputs": [
    {
     "name": "stdout",
     "output_type": "stream",
     "text": [
      "(1, 2, 3, 4, 5, 6, 6, 1, 2, 3, 4, 5, 6, 6)\n"
     ]
    }
   ],
   "source": [
    "# multiply \n",
    "a= (1,2,3,4,5,6,6)\n",
    "print(a*2)"
   ]
  },
  {
   "cell_type": "markdown",
   "id": "a5d949ed",
   "metadata": {},
   "source": [
    "# Dictionary"
   ]
  },
  {
   "cell_type": "code",
   "execution_count": 1,
   "id": "f7f11ca4",
   "metadata": {},
   "outputs": [
    {
     "name": "stdout",
     "output_type": "stream",
     "text": [
      "{'Id': '123323', 'name': 'yash', 'mob': '3837483489'}\n"
     ]
    }
   ],
   "source": [
    "dict={\"Id\":\"123323\",\"name\":\"yash\",\"mob\":\"3837483489\"}\n",
    "print(dict)"
   ]
  },
  {
   "cell_type": "code",
   "execution_count": 2,
   "id": "7b28499b",
   "metadata": {},
   "outputs": [
    {
     "name": "stdout",
     "output_type": "stream",
     "text": [
      "yash\n"
     ]
    }
   ],
   "source": [
    "dict={\"Id\":\"123323\",\"name\":\"yash\",\"mob\":\"3837483489\"}\n",
    "print(dict[\"name\"])"
   ]
  },
  {
   "cell_type": "code",
   "execution_count": 3,
   "id": "dc891790",
   "metadata": {},
   "outputs": [
    {
     "name": "stdout",
     "output_type": "stream",
     "text": [
      "{'Id': '123323', 'name': 'ram', 'mob': '3837483489'}\n"
     ]
    }
   ],
   "source": [
    "dict={\"Id\":\"123323\",\"name\":\"yash\",\"mob\":\"3837483489\",\"name\":\"ram\"}\n",
    "print(dict)"
   ]
  },
  {
   "cell_type": "code",
   "execution_count": 4,
   "id": "00ffe5ce",
   "metadata": {},
   "outputs": [
    {
     "name": "stdout",
     "output_type": "stream",
     "text": [
      "3\n"
     ]
    }
   ],
   "source": [
    "dict={\"Id\":\"123323\",\"name\":\"yash\",\"mob\":\"3837483489\"}\n",
    "print(len(dict))"
   ]
  },
  {
   "cell_type": "markdown",
   "id": "208f45b4",
   "metadata": {},
   "source": [
    "# Datatypes "
   ]
  },
  {
   "cell_type": "code",
   "execution_count": 10,
   "id": "ad3d713f",
   "metadata": {},
   "outputs": [
    {
     "name": "stdout",
     "output_type": "stream",
     "text": [
      "{'Id': '123323', 'a': [1, 2, 3, 4], 'c': False, 'b': [2.3, 4.3], 'mob': 3837483489}\n"
     ]
    }
   ],
   "source": [
    "dict={\n",
    "    \"Id\":\"123323\",\n",
    "    \"a\":[1,2,3,4],\n",
    "    \"c\":False,\n",
    "    \"b\":[2.3,4.3],\n",
    "    \"mob\":3837483489}\n",
    "print(dict)"
   ]
  },
  {
   "cell_type": "code",
   "execution_count": 12,
   "id": "72821112",
   "metadata": {},
   "outputs": [
    {
     "ename": "TypeError",
     "evalue": "'dict' object is not callable",
     "output_type": "error",
     "traceback": [
      "\u001b[1;31m---------------------------------------------------------------------------\u001b[0m",
      "\u001b[1;31mTypeError\u001b[0m                                 Traceback (most recent call last)",
      "Cell \u001b[1;32mIn[12], line 1\u001b[0m\n\u001b[1;32m----> 1\u001b[0m a \u001b[38;5;241m=\u001b[39m \u001b[38;5;28mdict\u001b[39m(name\u001b[38;5;241m=\u001b[39m\u001b[38;5;124m\"\u001b[39m\u001b[38;5;124mpriya\u001b[39m\u001b[38;5;124m\"\u001b[39m,age\u001b[38;5;241m=\u001b[39m\u001b[38;5;241m23\u001b[39m,village\u001b[38;5;241m=\u001b[39m\u001b[38;5;124m\"\u001b[39m\u001b[38;5;124mgainee\u001b[39m\u001b[38;5;124m\"\u001b[39m)\n\u001b[0;32m      2\u001b[0m \u001b[38;5;28mprint\u001b[39m(a)\n",
      "\u001b[1;31mTypeError\u001b[0m: 'dict' object is not callable"
     ]
    }
   ],
   "source": [
    "a = dict(name=\"priya\",age=23,village=\"gainee\")\n",
    "print(a)"
   ]
  },
  {
   "cell_type": "code",
   "execution_count": 13,
   "id": "eb56f4e6",
   "metadata": {},
   "outputs": [
    {
     "name": "stdout",
     "output_type": "stream",
     "text": [
      "yash\n"
     ]
    }
   ],
   "source": [
    "dict={\"Id\":\"123323\",\"name\":\"yash\",\"mob\":\"3837483489\"}\n",
    "print(dict.get(\"name\"))"
   ]
  },
  {
   "cell_type": "code",
   "execution_count": 16,
   "id": "17d0b9aa",
   "metadata": {},
   "outputs": [
    {
     "name": "stdout",
     "output_type": "stream",
     "text": [
      "dict_keys(['Id', 'name', 'mob'])\n"
     ]
    }
   ],
   "source": [
    "#get keys\n",
    "dict={\"Id\":\"123323\",\"name\":\"yash\",\"mob\":\"3837483489\"}\n",
    "print(dict.keys())"
   ]
  },
  {
   "cell_type": "code",
   "execution_count": 17,
   "id": "cb3b8ec2",
   "metadata": {},
   "outputs": [
    {
     "name": "stdout",
     "output_type": "stream",
     "text": [
      "dict_values(['123323', 'yash', '3837483489'])\n"
     ]
    }
   ],
   "source": [
    "#get values\n",
    "dict={\"Id\":\"123323\",\"name\":\"yash\",\"mob\":\"3837483489\"}\n",
    "print(dict.values())"
   ]
  },
  {
   "cell_type": "code",
   "execution_count": 18,
   "id": "59a2201d",
   "metadata": {},
   "outputs": [
    {
     "name": "stdout",
     "output_type": "stream",
     "text": [
      "{'Id': '123323', 'name': 'ram', 'mob': '3837483489'}\n"
     ]
    }
   ],
   "source": [
    "#change values\n",
    "dict={\"Id\":\"123323\",\"name\":\"yash\",\"mob\":\"3837483489\"}\n",
    "dict[\"name\"]=\"ram\"\n",
    "print(dict)"
   ]
  },
  {
   "cell_type": "code",
   "execution_count": 20,
   "id": "5e42f1a8",
   "metadata": {},
   "outputs": [
    {
     "name": "stdout",
     "output_type": "stream",
     "text": [
      "{'Id': '123323', 'name': 'yash', 'mob': '3837483489', 'rollno': 2233}\n"
     ]
    }
   ],
   "source": [
    "# add items\n",
    "dict={\"Id\":\"123323\",\"name\":\"yash\",\"mob\":\"3837483489\"}\n",
    "dict[\"rollno\"]=2233\n",
    "print(dict)"
   ]
  },
  {
   "cell_type": "code",
   "execution_count": 21,
   "id": "10b91c85",
   "metadata": {},
   "outputs": [
    {
     "name": "stdout",
     "output_type": "stream",
     "text": [
      "{'Id': '123323', 'name': 'ram', 'mob': '3837483489'}\n"
     ]
    }
   ],
   "source": [
    "#update method\n",
    "dict={\"Id\":\"123323\",\"name\":\"yash\",\"mob\":\"3837483489\"}\n",
    "dict.update({\"name\":\"ram\"})\n",
    "print(dict)"
   ]
  },
  {
   "cell_type": "code",
   "execution_count": 22,
   "id": "3533964e",
   "metadata": {},
   "outputs": [
    {
     "name": "stdout",
     "output_type": "stream",
     "text": [
      "{'Id': '123323', 'name': 'yash'}\n"
     ]
    }
   ],
   "source": [
    "#remove items\n",
    "dict={\"Id\":\"123323\",\"name\":\"yash\",\"mob\":\"3837483489\"}\n",
    "dict.pop(\"mob\")\n",
    "print(dict)"
   ]
  },
  {
   "cell_type": "code",
   "execution_count": 23,
   "id": "638ce08a",
   "metadata": {},
   "outputs": [
    {
     "name": "stdout",
     "output_type": "stream",
     "text": [
      "{'Id': '123323', 'name': 'yash'}\n"
     ]
    }
   ],
   "source": [
    "dict={\"Id\":\"123323\",\"name\":\"yash\",\"mob\":\"3837483489\"}\n",
    "del dict[\"mob\"]\n",
    "print(dict)"
   ]
  },
  {
   "cell_type": "code",
   "execution_count": 27,
   "id": "8312e7c5",
   "metadata": {},
   "outputs": [
    {
     "name": "stdout",
     "output_type": "stream",
     "text": [
      "<class 'dict'>\n"
     ]
    }
   ],
   "source": [
    "dict={\"Id\":\"123323\",\"name\":\"yash\",\"mob\":\"3837483489\"}\n",
    "del dict\n",
    "print(dict)"
   ]
  },
  {
   "cell_type": "code",
   "execution_count": 28,
   "id": "2c297a22",
   "metadata": {},
   "outputs": [
    {
     "name": "stdout",
     "output_type": "stream",
     "text": [
      "{}\n"
     ]
    }
   ],
   "source": [
    "dict={\"Id\":\"123323\",\"name\":\"yash\",\"mob\":\"3837483489\"}\n",
    "dict.clear()\n",
    "print(dict)"
   ]
  },
  {
   "cell_type": "code",
   "execution_count": 32,
   "id": "ec35cc45",
   "metadata": {},
   "outputs": [
    {
     "name": "stdout",
     "output_type": "stream",
     "text": [
      "{'Id': '123323', 'name': 'yash', 'mob': '3837483489', 'Id1': '1233234', 'name1': 'yasht', 'mob1': '38374834897', 'Id2': '1233235', 'name2': 'yashy', 'mob2': '38374834898'}\n"
     ]
    }
   ],
   "source": [
    "# merging dictionaries\n",
    "dict={\"Id\":\"123323\",\"name\":\"yash\",\"mob\":\"3837483489\"}\n",
    "dict1={\"Id1\":\"1233234\",\"name1\":\"yasht\",\"mob1\":\"38374834897\"}\n",
    "dict2={\"Id2\":\"1233235\",\"name2\":\"yashy\",\"mob2\":\"38374834898\"}\n",
    "dict3={}\n",
    "for d in (dict,dict1,dict2):dict3.update(d)\n",
    "print(dict3)"
   ]
  },
  {
   "cell_type": "code",
   "execution_count": 33,
   "id": "441ecd11",
   "metadata": {},
   "outputs": [
    {
     "name": "stdout",
     "output_type": "stream",
     "text": [
      "a1 a2\n",
      "2 2\n",
      "3 3\n",
      "4 4\n"
     ]
    }
   ],
   "source": [
    "#print dictionary in table formate\n",
    "\n",
    "my={'a1':[2,3,4],'a2':[2,3,4]}\n",
    "for row in zip(*([key]+(value) for key, value in sorted(my.items()))):\n",
    "    print(*row)"
   ]
  },
  {
   "cell_type": "code",
   "execution_count": null,
   "id": "9f3cd5bc",
   "metadata": {},
   "outputs": [],
   "source": []
  }
 ],
 "metadata": {
  "kernelspec": {
   "display_name": "Python 3 (ipykernel)",
   "language": "python",
   "name": "python3"
  },
  "language_info": {
   "codemirror_mode": {
    "name": "ipython",
    "version": 3
   },
   "file_extension": ".py",
   "mimetype": "text/x-python",
   "name": "python",
   "nbconvert_exporter": "python",
   "pygments_lexer": "ipython3",
   "version": "3.11.5"
  }
 },
 "nbformat": 4,
 "nbformat_minor": 5
}
